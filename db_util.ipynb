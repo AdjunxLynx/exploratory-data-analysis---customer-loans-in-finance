{
 "cells": [
  {
   "cell_type": "code",
   "execution_count": 1,
   "metadata": {},
   "outputs": [],
   "source": [
    "# Custom classes\n",
    "from DFInfo import DataFrameInfo\n",
    "from Connector import RDSDatabaseConnector\n",
    "from GraphPlotter import Plotter\n",
    "from DFTransform import DataFrameTransform\n",
    "from DTransform import DataTransform\n",
    "from pandasgui import show\n",
    "\n",
    "# modules\n",
    "import warnings, os\n",
    "import pandas as pd\n",
    "\n",
    "\n",
    "# to stop spam of deprecated feature\n",
    "warnings.simplefilter(action=\"ignore\", category=FutureWarning) \n",
    "\n",
    "#creates all the classes\n",
    "rdsdbc = RDSDatabaseConnector()\n",
    "dtransformer = DataTransform()\n",
    "dfinfo = DataFrameInfo()\n",
    "dftransformer = DataFrameTransform()\n",
    "plotter = Plotter()"
   ]
  },
  {
   "cell_type": "code",
   "execution_count": 2,
   "metadata": {},
   "outputs": [],
   "source": [
    "available_list = [\"policy_code\"]\n",
    "string_list = [\"policy_code\", \"term\"]\n",
    "strip_list = [\"term\"]\n",
    "qualitative_list = [\"purpose\", \"grade\", \"sub_grade\",\"home_ownership\", \"verification_status\", \"loan_status\", \"payment_plan\", \"application_type\", \"employment_length\"]\n",
    "outlier_columns = [\"funded_amount\", \"funded_amount_inv\", \"installment\", \"open_accounts\", \"delinq_2yrs\", \"total_accounts\", \"total_payment\", \"total_payment_inv\", \"total_rec_prncp\", \"total_rec_int\", \"last_payment_amount\"]\n",
    "ignore_transform_list = [\"funded_amount\", \"funded_amount_inv\"]\n",
    "\n",
    "dtransformer.set_available_list(available_list)\n",
    "dtransformer.set_string_list(string_list)\n",
    "dtransformer.set_strip_list(strip_list)\n",
    "dtransformer.set_qualitative_list(qualitative_list)"
   ]
  },
  {
   "cell_type": "code",
   "execution_count": 3,
   "metadata": {},
   "outputs": [
    {
     "name": "stderr",
     "output_type": "stream",
     "text": [
      "PandasGUI INFO — pandasgui.gui — Opening PandasGUI\n"
     ]
    },
    {
     "data": {
      "text/plain": [
       "<pandasgui.gui.PandasGui at 0x112e615b0>"
      ]
     },
     "execution_count": 3,
     "metadata": {},
     "output_type": "execute_result"
    }
   ],
   "source": [
    "dataframe = rdsdbc.download_df()\n",
    "#connects to online server, downloads the database, and stores in a file called loan_payments.csv\n",
    "show(dataframe)"
   ]
  },
  {
   "cell_type": "code",
   "execution_count": null,
   "metadata": {},
   "outputs": [],
   "source": [
    "dataframe = dtransformer.call_all_cleaners(dataframe)"
   ]
  },
  {
   "cell_type": "code",
   "execution_count": null,
   "metadata": {},
   "outputs": [],
   "source": [
    "dataframe = dfinfo.call_all_information(dataframe)"
   ]
  },
  {
   "cell_type": "code",
   "execution_count": null,
   "metadata": {},
   "outputs": [],
   "source": [
    "#calls the plotter and visualises the null value removal\n",
    "nulls_before = dftransformer.count_nulls(dataframe)\n",
    "dataframe = dftransformer.drop_columns(dataframe)\n",
    "dataframe = dftransformer.impute_columns(dataframe)\n",
    "nulls_after = dftransformer.count_nulls(dataframe)\n",
    "\n",
    "plotter.plot_nulls_before_after(nulls_before, nulls_after)"
   ]
  },
  {
   "cell_type": "code",
   "execution_count": null,
   "metadata": {},
   "outputs": [],
   "source": [
    "skewed_columns = dtransformer.get_skewed_columns(dataframe, qualitative_list, 0.5)\n",
    "skewed_dataframe = dtransformer.get_skewed_dataframe(dataframe, skewed_columns)\n",
    "unskewed_dataframe = dftransformer.remove_skewness(dataframe, qualitative_list)\n",
    "\n",
    "plotter.plot_skewed_vs_unskewed_graph(skewed_dataframe.skew(), unskewed_dataframe.skew())"
   ]
  },
  {
   "cell_type": "code",
   "execution_count": null,
   "metadata": {},
   "outputs": [],
   "source": [
    "combined_df = dftransformer.merge_dataframes(dataframe, unskewed_dataframe)\n",
    "combined_df.to_csv(os.path.join(\"script_data\", \"combined_dataframe.csv\"), index=False)\n",
    "dataframe = combined_df"
   ]
  },
  {
   "cell_type": "code",
   "execution_count": null,
   "metadata": {},
   "outputs": [],
   "source": [
    "\n",
    "plotter.visualise_outliers(dataframe, outlier_columns, False)\n",
    "before = dataframe\n",
    "drop_outlier_dictionary = dftransformer.find_closest_outliers(dataframe, outlier_columns)\n",
    "dataframe = dftransformer.drop_outside_bounds(dataframe, drop_outlier_dictionary)\n",
    "after = dataframe"
   ]
  },
  {
   "cell_type": "code",
   "execution_count": null,
   "metadata": {},
   "outputs": [],
   "source": [
    "count_before = dftransformer.calculate_outlier_counts(before, outlier_columns)\n",
    "count_after = dftransformer.calculate_outlier_counts(after, outlier_columns)\n",
    "before_dataframe = pd.DataFrame(data = count_before, index = [0])\n",
    "after_dataframe = pd.DataFrame(data = count_after, index = [0])"
   ]
  },
  {
   "cell_type": "code",
   "execution_count": null,
   "metadata": {},
   "outputs": [],
   "source": [
    "plotter.plot_outliers_before_after(before_dataframe, after_dataframe)"
   ]
  },
  {
   "cell_type": "code",
   "execution_count": null,
   "metadata": {},
   "outputs": [],
   "source": [
    "\n",
    "matrix_before = dftransformer.get_correlation_matrix(dataframe)\n",
    "dataframe = dftransformer.drop_overcorrelated(dataframe, matrix_before)\n",
    "dataframe = dftransformer.drop_overcorrelated(dataframe, dftransformer.get_correlation_matrix(dataframe), ignore_transform_list)\n",
    "\n",
    "matrix_after = dftransformer.get_correlation_matrix(dataframe)\n",
    "plotter.plot_correlation_before_after(matrix_before, matrix_after)"
   ]
  }
 ],
 "metadata": {
  "kernelspec": {
   "display_name": "analyst",
   "language": "python",
   "name": "python3"
  },
  "language_info": {
   "codemirror_mode": {
    "name": "ipython",
    "version": 3
   },
   "file_extension": ".py",
   "mimetype": "text/x-python",
   "name": "python",
   "nbconvert_exporter": "python",
   "pygments_lexer": "ipython3",
   "version": "3.12.1"
  }
 },
 "nbformat": 4,
 "nbformat_minor": 2
}
