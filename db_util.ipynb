{
 "cells": [
  {
   "cell_type": "code",
   "execution_count": null,
   "metadata": {},
   "outputs": [],
   "source": [
    "# modules\n",
    "import warnings, os\n",
    "import pandas as pd\n",
    "from pandasgui import show\n",
    "\n",
    "# Custom classes\n",
    "from DFInfo import DataFrameInfo\n",
    "from Connector import RDSDatabaseConnector\n",
    "from GraphPlotter import Plotter\n",
    "from DFTransform import DataFrameTransform\n",
    "from DTransform import DataTransform\n"
   ]
  },
  {
   "cell_type": "code",
   "execution_count": null,
   "metadata": {},
   "outputs": [],
   "source": [
    "# to stop spam of deprecated feature\n",
    "warnings.simplefilter(action=\"ignore\", category=FutureWarning) \n",
    "\n",
    "#creates all the classes\n",
    "rdsdbc = RDSDatabaseConnector()\n",
    "dtransformer = DataTransform()\n",
    "dtinfo = DataFrameInfo()\n",
    "dftransformer = DataFrameTransform()\n",
    "plotter = Plotter()"
   ]
  },
  {
   "cell_type": "code",
   "execution_count": null,
   "metadata": {},
   "outputs": [],
   "source": [
    "available_list = [\"policy_code\"]\n",
    "string_list = [\"policy_code\", \"term\"]\n",
    "strip_list = [\"term\"]\n",
    "qualitative_list = [\"purpose\", \"grade\", \"sub_grade\",\"home_ownership\", \"verification_status\", \"loan_status\", \"payment_plan\", \"application_type\", \"employment_length\"]\n",
    "ignore_transform_list = [\"id\", \"member_id\"]"
   ]
  },
  {
   "cell_type": "code",
   "execution_count": null,
   "metadata": {},
   "outputs": [],
   "source": [
    "dataframe = rdsdbc.download_df()\n",
    "#connects to online server, downloads the database, and stores in a file called loan_payments.csv"
   ]
  },
  {
   "cell_type": "code",
   "execution_count": null,
   "metadata": {},
   "outputs": [],
   "source": [
    "show(dataframe) # original untouched dataframe"
   ]
  },
  {
   "cell_type": "code",
   "execution_count": null,
   "metadata": {},
   "outputs": [],
   "source": [
    "#calls the main function in each data analysis class\n",
    "dtransformer.set_available_list(available_list)\n",
    "dtransformer.set_string_list(string_list)\n",
    "dtransformer.set_strip_list(strip_list)\n",
    "dtransformer.set_qualitative_list(qualitative_list)\n",
    "\n",
    "dataframe = dtransformer.call_all_cleaners(dataframe)\n",
    "####dataframe = dtinfo.call_all_information(dataframe)"
   ]
  },
  {
   "cell_type": "code",
   "execution_count": null,
   "metadata": {},
   "outputs": [],
   "source": [
    "#calls the plotter and visualises the null value removal\n",
    "nulls_before = dftransformer.count_nulls(dataframe)\n",
    "dataframe = dftransformer.drop_columns(dataframe)\n",
    "dataframe = dftransformer.impute_columns(dataframe)\n",
    "nulls_after = dftransformer.count_nulls(dataframe)\n",
    "\n",
    "plotter.plot_nulls_before_after(nulls_before, nulls_after)"
   ]
  },
  {
   "cell_type": "code",
   "execution_count": null,
   "metadata": {},
   "outputs": [],
   "source": [
    "skewed_columns = dtransformer.get_skewed_columns(dataframe, qualitative_list, 0.5)\n",
    "skewed_dataframe = dtransformer.get_skewed_dataframe(dataframe, skewed_columns)\n",
    "unskewed_dataframe = dftransformer.remove_skewness(dataframe, qualitative_list)\n",
    "\n",
    "plotter.plot_skewed_vs_unskewed_graph(skewed_dataframe.skew(), unskewed_dataframe.skew())"
   ]
  },
  {
   "cell_type": "code",
   "execution_count": null,
   "metadata": {},
   "outputs": [],
   "source": [
    "combined_df = dftransformer.merge_dataframes(dataframe, unskewed_dataframe)\n",
    "combined_df.to_csv(os.path.join(\"script_data\", \"combined_dataframe.csv\"), index=False)"
   ]
  },
  {
   "cell_type": "code",
   "execution_count": null,
   "metadata": {},
   "outputs": [],
   "source": [
    "\n",
    "show(combined_df)"
   ]
  }
 ],
 "metadata": {
  "kernelspec": {
   "display_name": "analyst",
   "language": "python",
   "name": "python3"
  },
  "language_info": {
   "codemirror_mode": {
    "name": "ipython",
    "version": 3
   },
   "file_extension": ".py",
   "mimetype": "text/x-python",
   "name": "python",
   "nbconvert_exporter": "python",
   "pygments_lexer": "ipython3",
   "version": "3.12.1"
  }
 },
 "nbformat": 4,
 "nbformat_minor": 2
}
